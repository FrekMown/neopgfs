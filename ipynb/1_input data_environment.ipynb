{
 "cells": [
  {
   "cell_type": "code",
   "execution_count": 1,
   "id": "eligible-muslim",
   "metadata": {},
   "outputs": [],
   "source": [
    "import sys\n",
    "sys.path.append('../')"
   ]
  },
  {
   "cell_type": "code",
   "execution_count": 160,
   "metadata": {},
   "outputs": [],
   "source": [
    "from rdkit import Chem\n",
    "from rdkit.Chem.rdchem import Mol\n",
    "from rdkit.Chem import AllChem, Descriptors\n",
    "from rdkit.Chem.Draw import IPythonConsole\n",
    "import pandas as pd\n",
    "from typing import List, Dict, Callable\n",
    "import numpy as np\n",
    "from time import time\n",
    "import matplotlib.pyplot as plt\n",
    "from sklearn.neighbors import NearestNeighbors\n",
    "from rdkit.Chem.rdChemReactions import ChemicalReaction"
   ]
  },
  {
   "cell_type": "code",
   "execution_count": 40,
   "metadata": {},
   "outputs": [],
   "source": [
    "REACTANTS_PATH = \"../neopgfs/data/enamine_building_blocks.csv\"\n",
    "REACTIONS_PATH = \"../neopgfs/data/rxn_set.txt\"\n",
    "RLV2_DESCRIPTORS_PATH = '../neopgfs/data/descriptors_rlv2.txt'"
   ]
  },
  {
   "cell_type": "code",
   "execution_count": 144,
   "metadata": {},
   "outputs": [],
   "source": [
    "reactants_df = pd.read_csv(REACTANTS_PATH)\n",
    "reactants = [Chem.MolFromSmiles(smiles) for smiles in reactants_df.SMILES.values]"
   ]
  },
  {
   "cell_type": "code",
   "execution_count": 140,
   "metadata": {},
   "outputs": [
    {
     "output_type": "execute_result",
     "data": {
      "text/plain": [
       "                              name  \\\n",
       "0             Bischler-Napieralski   \n",
       "1                      Pictet-Gams   \n",
       "2  Pictet-Spengler-6-membered-ring   \n",
       "3  Pictet-Spengler-5-membered-ring   \n",
       "4                  Bischler-Indole   \n",
       "\n",
       "                                              smarts      description  \n",
       "0  [$(C([CH2,CH3])),CH:10](=[O:11])-[NH+0:9]-[C$(...  DINGOS Reaction  \n",
       "1  [$(C([CH2,CH3])),CH:10](=[O:11])-[NH+0:9]-[C$(...  DINGOS Reaction  \n",
       "2  [NH3+,NH2]-[C$(C(N)(C)(C)(C)),C$([CH](N)(C)(C)...  DINGOS Reaction  \n",
       "3  [NH3+,NH2]-[C$(C(N)(C)(C)(C)),C$([CH](N)(C)(C)...  DINGOS Reaction  \n",
       "4  [NH2,NH3+1:8]-[c:5]1[cH:4][c:3][c:2][c:1][c:6]...  DINGOS Reaction  "
      ],
      "text/html": "<div>\n<style scoped>\n    .dataframe tbody tr th:only-of-type {\n        vertical-align: middle;\n    }\n\n    .dataframe tbody tr th {\n        vertical-align: top;\n    }\n\n    .dataframe thead th {\n        text-align: right;\n    }\n</style>\n<table border=\"1\" class=\"dataframe\">\n  <thead>\n    <tr style=\"text-align: right;\">\n      <th></th>\n      <th>name</th>\n      <th>smarts</th>\n      <th>description</th>\n    </tr>\n  </thead>\n  <tbody>\n    <tr>\n      <th>0</th>\n      <td>Bischler-Napieralski</td>\n      <td>[$(C([CH2,CH3])),CH:10](=[O:11])-[NH+0:9]-[C$(...</td>\n      <td>DINGOS Reaction</td>\n    </tr>\n    <tr>\n      <th>1</th>\n      <td>Pictet-Gams</td>\n      <td>[$(C([CH2,CH3])),CH:10](=[O:11])-[NH+0:9]-[C$(...</td>\n      <td>DINGOS Reaction</td>\n    </tr>\n    <tr>\n      <th>2</th>\n      <td>Pictet-Spengler-6-membered-ring</td>\n      <td>[NH3+,NH2]-[C$(C(N)(C)(C)(C)),C$([CH](N)(C)(C)...</td>\n      <td>DINGOS Reaction</td>\n    </tr>\n    <tr>\n      <th>3</th>\n      <td>Pictet-Spengler-5-membered-ring</td>\n      <td>[NH3+,NH2]-[C$(C(N)(C)(C)(C)),C$([CH](N)(C)(C)...</td>\n      <td>DINGOS Reaction</td>\n    </tr>\n    <tr>\n      <th>4</th>\n      <td>Bischler-Indole</td>\n      <td>[NH2,NH3+1:8]-[c:5]1[cH:4][c:3][c:2][c:1][c:6]...</td>\n      <td>DINGOS Reaction</td>\n    </tr>\n  </tbody>\n</table>\n</div>"
     },
     "metadata": {},
     "execution_count": 140
    }
   ],
   "source": [
    "reactions_df = pd.read_csv(REACTIONS_PATH, sep='|', header=None)\n",
    "reactions_df.columns = ['name', 'smarts', 'description']\n",
    "reactions_df.head()"
   ]
  },
  {
   "cell_type": "code",
   "execution_count": 141,
   "metadata": {},
   "outputs": [],
   "source": [
    "reactions = [AllChem.ReactionFromSmarts(smarts) for smarts in reactions_df.smarts.values]"
   ]
  },
  {
   "cell_type": "code",
   "execution_count": 143,
   "metadata": {},
   "outputs": [
    {
     "output_type": "execute_result",
     "data": {
      "text/plain": [
       "<rdkit.Chem.rdChemReactions.ChemicalReaction at 0x7fc5282fc210>"
      ],
      "image/png": "[encoded data removed]"
     },
     "metadata": {},
     "execution_count": 143
    }
   ],
   "source": [
    "reactions[59]"
   ]
  },
  {
   "cell_type": "code",
   "execution_count": 145,
   "metadata": {},
   "outputs": [
    {
     "output_type": "execute_result",
     "data": {
      "text/plain": [
       "<rdkit.Chem.rdChemReactions.ChemicalReaction at 0x7fc524badb20>"
      ],
      "image/png": "[encoded data removed]"
     },
     "metadata": {},
     "execution_count": 145
    }
   ],
   "source": [
    "rxn = reactions[15]\n",
    "rxn"
   ]
  },
  {
   "cell_type": "code",
   "execution_count": 150,
   "metadata": {},
   "outputs": [],
   "source": [
    "reactants_rxn=list(rxn.GetReactants())"
   ]
  },
  {
   "cell_type": "code",
   "execution_count": 151,
   "metadata": {},
   "outputs": [
    {
     "output_type": "execute_result",
     "data": {
      "text/plain": [
       "<rdkit.Chem.rdchem.Mol at 0x7fc5247419d0>"
      ],
      "image/png": "[encoded data removed]"
     },
     "metadata": {},
     "execution_count": 151
    }
   ],
   "source": [
    "reactants_rxn[0]"
   ]
  },
  {
   "cell_type": "code",
   "execution_count": 153,
   "metadata": {},
   "outputs": [
    {
     "output_type": "execute_result",
     "data": {
      "text/plain": [
       "<rdkit.Chem.rdchem.Mol at 0x7fc524863260>"
      ],
      "image/png": "[encoded data removed]"
     },
     "metadata": {},
     "execution_count": 153
    }
   ],
   "source": [
    "mol = Chem.MolFromSmiles(\"O=CCC=O\")\n",
    "mol"
   ]
  },
  {
   "cell_type": "code",
   "execution_count": 154,
   "metadata": {},
   "outputs": [
    {
     "output_type": "execute_result",
     "data": {
      "text/plain": [
       "False"
      ]
     },
     "metadata": {},
     "execution_count": 154
    }
   ],
   "source": [
    "reactants_rxn[0].HasSubstructMatch(mol)"
   ]
  },
  {
   "cell_type": "code",
   "execution_count": 155,
   "metadata": {},
   "outputs": [
    {
     "output_type": "execute_result",
     "data": {
      "text/plain": [
       "True"
      ]
     },
     "metadata": {},
     "execution_count": 155
    }
   ],
   "source": [
    "mol.HasSubstructMatch(reactants_rxn[0])"
   ]
  },
  {
   "cell_type": "code",
   "execution_count": 158,
   "metadata": {},
   "outputs": [
    {
     "output_type": "execute_result",
     "data": {
      "text/plain": [
       "2"
      ]
     },
     "metadata": {},
     "execution_count": 158
    }
   ],
   "source": [
    "rxn.GetNumReactantTemplates()"
   ]
  },
  {
   "cell_type": "code",
   "execution_count": 159,
   "metadata": {},
   "outputs": [
    {
     "output_type": "execute_result",
     "data": {
      "text/plain": [
       "rdkit.Chem.rdChemReactions.ChemicalReaction"
      ]
     },
     "metadata": {},
     "execution_count": 159
    }
   ],
   "source": [
    "type(rxn)"
   ]
  },
  {
   "cell_type": "code",
   "execution_count": 184,
   "metadata": {},
   "outputs": [],
   "source": [
    "def inverse_reaction(rxn: ChemicalReaction) -> ChemicalReaction:\n",
    "    rxn_double = ChemicalReaction()\n",
    "    reactants = list(rxn.GetReactants())\n",
    "    rxn_double.AddReactantTemplate(reactants[1])\n",
    "    rxn_double.AddReactantTemplate(reactants[0])\n",
    "    rxn_double.AddProductTemplate(list(rxn.GetProducts())[0])\n",
    "    return rxn_double"
   ]
  },
  {
   "cell_type": "code",
   "execution_count": 202,
   "metadata": {},
   "outputs": [
    {
     "output_type": "stream",
     "name": "stdout",
     "text": [
      "Original reaction_df shape =  (64, 3)\nNew reactions_df shape= (113, 3)\n"
     ]
    }
   ],
   "source": [
    "reactions_df = pd.read_csv(REACTIONS_PATH, sep='|', header=None)\n",
    "reactions_df.columns = ['name', 'smarts', 'description']\n",
    "print(\"Original reaction_df shape = \", reactions_df.shape)\n",
    "\n",
    "for idx in reactions_df.copy().index:\n",
    "    rxn = AllChem.ReactionFromSmarts(reactions_df.loc[idx, 'smarts'])\n",
    "    # Add inverse reaction if rxn has two reactants\n",
    "    #print(rxn.GetNumReactantTemplates())\n",
    "    if rxn.GetNumReactantTemplates() == 2:\n",
    "        rxn_inv = inverse_reaction(rxn)\n",
    "        new_idx = len(reactions_df)\n",
    "        reactions_df.loc[new_idx, 'name'] = reactions_df.loc[idx, 'name'] + ' - inverse'\n",
    "        reactions_df.loc[new_idx, 'smarts'] = AllChem.ReactionToSmarts(rxn_inv)\n",
    "print(\"New reactions_df shape=\", reactions_df.shape)"
   ]
  },
  {
   "cell_type": "code",
   "execution_count": 210,
   "metadata": {},
   "outputs": [],
   "source": [
    "def compute_compatibility_reactions_reactants(level: int, reactions_df: pd.DataFrame, reactants_df: pd.DataFrame) -> np.ndarray:\n",
    "\n",
    "    out = np.full((len(reactions_df), len(reactants_df)), False)\n",
    "\n",
    "    for n_reaction, rxn_smarts in enumerate(reactions_df.smarts):\n",
    "        for n_reactant, mol_smiles in enumerate(reactants_df.SMILES):\n",
    "            rxn = AllChem.ReactionFromSmarts(rxn_smarts)\n",
    "            mol = Chem.MolFromSmiles(mol_smiles)\n",
    "\n",
    "\n",
    "            if rxn.GetNumReactantTemplates() > level:\n",
    "                template = list(rxn.GetReactants())[level]\n",
    "                out[n_reaction, n_reactant] = mol.HasSubstructMatch(template)\n",
    "    return out"
   ]
  },
  {
   "cell_type": "code",
   "execution_count": 211,
   "metadata": {},
   "outputs": [
    {
     "output_type": "error",
     "ename": "KeyboardInterrupt",
     "evalue": "",
     "traceback": [
      "\u001b[0;31m---------------------------------------------------------------------------\u001b[0m",
      "\u001b[0;31mKeyboardInterrupt\u001b[0m                         Traceback (most recent call last)",
      "\u001b[0;32m<ipython-input-211-86df11378e50>\u001b[0m in \u001b[0;36m<module>\u001b[0;34m\u001b[0m\n\u001b[0;32m----> 1\u001b[0;31m \u001b[0mrel_r1_rxns\u001b[0m \u001b[0;34m=\u001b[0m \u001b[0mcompute_compatibility_reactions_reactants\u001b[0m\u001b[0;34m(\u001b[0m\u001b[0;36m0\u001b[0m\u001b[0;34m,\u001b[0m \u001b[0mreactions_df\u001b[0m\u001b[0;34m,\u001b[0m \u001b[0mreactants_df\u001b[0m\u001b[0;34m)\u001b[0m\u001b[0;34m\u001b[0m\u001b[0;34m\u001b[0m\u001b[0m\n\u001b[0m",
      "\u001b[0;32m<ipython-input-210-42f5e2d754df>\u001b[0m in \u001b[0;36mcompute_compatibility_reactions_reactants\u001b[0;34m(level, reactions_df, reactants_df)\u001b[0m\n\u001b[1;32m      5\u001b[0m     \u001b[0;32mfor\u001b[0m \u001b[0mn_reaction\u001b[0m\u001b[0;34m,\u001b[0m \u001b[0mrxn_smarts\u001b[0m \u001b[0;32min\u001b[0m \u001b[0menumerate\u001b[0m\u001b[0;34m(\u001b[0m\u001b[0mreactions_df\u001b[0m\u001b[0;34m.\u001b[0m\u001b[0msmarts\u001b[0m\u001b[0;34m)\u001b[0m\u001b[0;34m:\u001b[0m\u001b[0;34m\u001b[0m\u001b[0;34m\u001b[0m\u001b[0m\n\u001b[1;32m      6\u001b[0m         \u001b[0;32mfor\u001b[0m \u001b[0mn_reactant\u001b[0m\u001b[0;34m,\u001b[0m \u001b[0mmol_smiles\u001b[0m \u001b[0;32min\u001b[0m \u001b[0menumerate\u001b[0m\u001b[0;34m(\u001b[0m\u001b[0mreactants_df\u001b[0m\u001b[0;34m.\u001b[0m\u001b[0mSMILES\u001b[0m\u001b[0;34m)\u001b[0m\u001b[0;34m:\u001b[0m\u001b[0;34m\u001b[0m\u001b[0;34m\u001b[0m\u001b[0m\n\u001b[0;32m----> 7\u001b[0;31m             \u001b[0mrxn\u001b[0m \u001b[0;34m=\u001b[0m \u001b[0mAllChem\u001b[0m\u001b[0;34m.\u001b[0m\u001b[0mReactionFromSmarts\u001b[0m\u001b[0;34m(\u001b[0m\u001b[0mrxn_smarts\u001b[0m\u001b[0;34m)\u001b[0m\u001b[0;34m\u001b[0m\u001b[0;34m\u001b[0m\u001b[0m\n\u001b[0m\u001b[1;32m      8\u001b[0m             \u001b[0mmol\u001b[0m \u001b[0;34m=\u001b[0m \u001b[0mChem\u001b[0m\u001b[0;34m.\u001b[0m\u001b[0mMolFromSmiles\u001b[0m\u001b[0;34m(\u001b[0m\u001b[0mmol_smiles\u001b[0m\u001b[0;34m)\u001b[0m\u001b[0;34m\u001b[0m\u001b[0;34m\u001b[0m\u001b[0m\n\u001b[1;32m      9\u001b[0m \u001b[0;34m\u001b[0m\u001b[0m\n",
      "\u001b[0;31mKeyboardInterrupt\u001b[0m: "
     ]
    }
   ],
   "source": [
    "rel_r0_rxns = compute_compatibility_reactions_reactants(0, reactions_df, reactants_df)\n",
    "rel_r1_rxns = compute_compatibility_reactions_reactants(1, reactions_df, reactants_df)"
   ]
  },
  {
   "cell_type": "code",
   "execution_count": null,
   "metadata": {},
   "outputs": [],
   "source": [
    "rel"
   ]
  },
  {
   "cell_type": "code",
   "execution_count": 203,
   "metadata": {},
   "outputs": [],
   "source": [
    "out = np.full((len(reactions_df), len(reactants_df)), False)"
   ]
  },
  {
   "cell_type": "code",
   "execution_count": null,
   "metadata": {},
   "outputs": [],
   "source": [
    "rxn.GetNumReactantTemplates()"
   ]
  },
  {
   "cell_type": "code",
   "execution_count": 201,
   "metadata": {},
   "outputs": [
    {
     "output_type": "execute_result",
     "data": {
      "text/plain": [
       "115"
      ]
     },
     "metadata": {},
     "execution_count": 201
    }
   ],
   "source": [
    "len(reactions_df)"
   ]
  },
  {
   "cell_type": "code",
   "execution_count": 175,
   "metadata": {},
   "outputs": [
    {
     "output_type": "execute_result",
     "data": {
      "text/plain": [
       "<rdkit.Chem.rdchem.Mol at 0x7fc517f4aef8>"
      ],
      "image/png": "[encoded data removed]"
     },
     "metadata": {},
     "execution_count": 175
    }
   ],
   "source": [
    "mol2"
   ]
  },
  {
   "cell_type": "code",
   "execution_count": 187,
   "metadata": {},
   "outputs": [
    {
     "output_type": "execute_result",
     "data": {
      "text/plain": [
       "'[O&H1,N&H2,N&H3&+:3]-[C&H2:2]-[C&$(C(-,:[C&X4,c])(-,:[C&X4,c])-,:[C&X4,c]),C&$([C&H1](-,:[C&X4,c])-,:[C&X4,c]),C&$([C&H2]-,:[C&X4,c]),C&$([C&H3]),c&$(c):1]>>[C,c:1][C:2]#[N:4]'"
      ]
     },
     "metadata": {},
     "execution_count": 187
    }
   ],
   "source": [
    "AllChem.ReactionToSmarts(rxn)"
   ]
  },
  {
   "cell_type": "code",
   "execution_count": 157,
   "metadata": {},
   "outputs": [
    {
     "output_type": "execute_result",
     "data": {
      "text/plain": [
       "(64, 150560)"
      ]
     },
     "metadata": {},
     "execution_count": 157
    }
   ],
   "source": [
    "# Invert r\n",
    "\n",
    "# Compute relationship between reactions and reactants\n",
    "rel_reactions_reactants = - np.ones((len(reactions_df), len(reactants_df)))\n",
    "rel_reactions_reactants.shape"
   ]
  },
  {
   "cell_type": "code",
   "execution_count": null,
   "metadata": {},
   "outputs": [],
   "source": []
  },
  {
   "cell_type": "code",
   "execution_count": null,
   "metadata": {},
   "outputs": [],
   "source": []
  },
  {
   "cell_type": "code",
   "execution_count": 8,
   "metadata": {},
   "outputs": [
    {
     "output_type": "execute_result",
     "data": {
      "text/plain": [
       "rdkit.Chem.rdchem.Mol"
      ]
     },
     "metadata": {},
     "execution_count": 8
    }
   ],
   "source": [
    "type(mol)"
   ]
  },
  {
   "cell_type": "code",
   "execution_count": 17,
   "metadata": {},
   "outputs": [
    {
     "output_type": "execute_result",
     "data": {
      "text/plain": [
       "                              name  \\\n",
       "0             Bischler-Napieralski   \n",
       "1                      Pictet-Gams   \n",
       "2  Pictet-Spengler-6-membered-ring   \n",
       "3  Pictet-Spengler-5-membered-ring   \n",
       "4                  Bischler-Indole   \n",
       "\n",
       "                                              smarts             desc  \n",
       "0  [$(C([CH2,CH3])),CH:10](=[O:11])-[NH+0:9]-[C$(...  DINGOS Reaction  \n",
       "1  [$(C([CH2,CH3])),CH:10](=[O:11])-[NH+0:9]-[C$(...  DINGOS Reaction  \n",
       "2  [NH3+,NH2]-[C$(C(N)(C)(C)(C)),C$([CH](N)(C)(C)...  DINGOS Reaction  \n",
       "3  [NH3+,NH2]-[C$(C(N)(C)(C)(C)),C$([CH](N)(C)(C)...  DINGOS Reaction  \n",
       "4  [NH2,NH3+1:8]-[c:5]1[cH:4][c:3][c:2][c:1][c:6]...  DINGOS Reaction  "
      ],
      "text/html": "<div>\n<style scoped>\n    .dataframe tbody tr th:only-of-type {\n        vertical-align: middle;\n    }\n\n    .dataframe tbody tr th {\n        vertical-align: top;\n    }\n\n    .dataframe thead th {\n        text-align: right;\n    }\n</style>\n<table border=\"1\" class=\"dataframe\">\n  <thead>\n    <tr style=\"text-align: right;\">\n      <th></th>\n      <th>name</th>\n      <th>smarts</th>\n      <th>desc</th>\n    </tr>\n  </thead>\n  <tbody>\n    <tr>\n      <th>0</th>\n      <td>Bischler-Napieralski</td>\n      <td>[$(C([CH2,CH3])),CH:10](=[O:11])-[NH+0:9]-[C$(...</td>\n      <td>DINGOS Reaction</td>\n    </tr>\n    <tr>\n      <th>1</th>\n      <td>Pictet-Gams</td>\n      <td>[$(C([CH2,CH3])),CH:10](=[O:11])-[NH+0:9]-[C$(...</td>\n      <td>DINGOS Reaction</td>\n    </tr>\n    <tr>\n      <th>2</th>\n      <td>Pictet-Spengler-6-membered-ring</td>\n      <td>[NH3+,NH2]-[C$(C(N)(C)(C)(C)),C$([CH](N)(C)(C)...</td>\n      <td>DINGOS Reaction</td>\n    </tr>\n    <tr>\n      <th>3</th>\n      <td>Pictet-Spengler-5-membered-ring</td>\n      <td>[NH3+,NH2]-[C$(C(N)(C)(C)(C)),C$([CH](N)(C)(C)...</td>\n      <td>DINGOS Reaction</td>\n    </tr>\n    <tr>\n      <th>4</th>\n      <td>Bischler-Indole</td>\n      <td>[NH2,NH3+1:8]-[c:5]1[cH:4][c:3][c:2][c:1][c:6]...</td>\n      <td>DINGOS Reaction</td>\n    </tr>\n  </tbody>\n</table>\n</div>"
     },
     "metadata": {},
     "execution_count": 17
    }
   ],
   "source": [
    "reactions_df = pd.read_csv('../neopgfs/Data/rxn_set.txt', sep='|', header=None)\n",
    "reactions_df.columns = ['name', 'smarts', 'desc']\n",
    "reactions_df.head()"
   ]
  },
  {
   "cell_type": "code",
   "execution_count": 19,
   "metadata": {},
   "outputs": [
    {
     "output_type": "execute_result",
     "data": {
      "text/plain": [
       "DINGOS Reaction    64\n",
       "Name: desc, dtype: int64"
      ]
     },
     "metadata": {},
     "execution_count": 19
    }
   ],
   "source": [
    "reactions_df['desc'].value_counts()"
   ]
  },
  {
   "cell_type": "code",
   "execution_count": 21,
   "metadata": {},
   "outputs": [
    {
     "output_type": "stream",
     "name": "stderr",
     "text": [
      "RDKit ERROR: [12:37:39] Can't kekulize mol.  Unkekulized atoms: 0 1 2 3 4 5 6 7 8\nRDKit ERROR: \n"
     ]
    },
    {
     "output_type": "execute_result",
     "data": {
      "text/plain": [
       "<rdkit.Chem.rdChemReactions.ChemicalReaction at 0x7fc5335ea120>"
      ],
      "image/png": "[encoded data removed]"
     },
     "metadata": {},
     "execution_count": 21
    }
   ],
   "source": [
    "r = AllChem.ReactionFromSmarts(reactions_df.iloc[5,1])\n",
    "r"
   ]
  },
  {
   "cell_type": "code",
   "execution_count": 22,
   "metadata": {},
   "outputs": [
    {
     "output_type": "execute_result",
     "data": {
      "text/plain": [
       "rdkit.Chem.rdChemReactions.ChemicalReaction"
      ]
     },
     "metadata": {},
     "execution_count": 22
    }
   ],
   "source": [
    "type(r)"
   ]
  },
  {
   "cell_type": "code",
   "execution_count": null,
   "metadata": {},
   "outputs": [],
   "source": []
  }
 ],
 "metadata": {
  "kernelspec": {
   "display_name": "Python 3.7.3 64-bit ('neopgfs': conda)",
   "language": "python",
   "name": "python37364bitneopgfscondadf36702eab714e32805f46a39f8fe58c"
  },
  "language_info": {
   "codemirror_mode": {
    "name": "ipython",
    "version": 3
   },
   "file_extension": ".py",
   "mimetype": "text/x-python",
   "name": "python",
   "nbconvert_exporter": "python",
   "pygments_lexer": "ipython3",
   "version": "3.7.3-final"
  }
 },
 "nbformat": 4,
 "nbformat_minor": 5
}